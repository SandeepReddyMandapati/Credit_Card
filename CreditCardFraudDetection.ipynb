{
 "cells": [
  {
   "cell_type": "code",
   "execution_count": 1,
   "metadata": {},
   "outputs": [
    {
     "name": "stdout",
     "output_type": "stream",
     "text": [
      "Requirement already satisfied: pyspark in c:\\program files\\python38\\lib\\site-packages (3.5.4)\n",
      "Requirement already satisfied: py4j==0.10.9.7 in c:\\program files\\python38\\lib\\site-packages (from pyspark) (0.10.9.7)\n",
      "Note: you may need to restart the kernel to use updated packages.\n"
     ]
    }
   ],
   "source": [
    "pip install pyspark"
   ]
  },
  {
   "cell_type": "code",
   "execution_count": 14,
   "metadata": {},
   "outputs": [],
   "source": [
    "from pyspark.sql import functions as f\n",
    "from pyspark.sql.functions import UserDefinedFunction\n",
    "from datetime import date, datetime, timedelta\n",
    "from pyspark.sql.functions import col, mean, stddev, log\n",
    "from pyspark.sql.types import *"
   ]
  },
  {
   "cell_type": "code",
   "execution_count": 4,
   "metadata": {},
   "outputs": [
    {
     "data": {
      "text/html": [
       "\n",
       "            <div>\n",
       "                <p><b>SparkSession - in-memory</b></p>\n",
       "                \n",
       "        <div>\n",
       "            <p><b>SparkContext</b></p>\n",
       "\n",
       "            <p><a href=\"http://LAPTOP-ACN7EA2H:4040\">Spark UI</a></p>\n",
       "\n",
       "            <dl>\n",
       "              <dt>Version</dt>\n",
       "                <dd><code>v3.5.0</code></dd>\n",
       "              <dt>Master</dt>\n",
       "                <dd><code>local[*]</code></dd>\n",
       "              <dt>AppName</dt>\n",
       "                <dd><code>preprocessing</code></dd>\n",
       "            </dl>\n",
       "        </div>\n",
       "        \n",
       "            </div>\n",
       "        "
      ],
      "text/plain": [
       "<pyspark.sql.session.SparkSession at 0x18cd3038df0>"
      ]
     },
     "execution_count": 4,
     "metadata": {},
     "output_type": "execute_result"
    }
   ],
   "source": [
    "from pyspark.sql import SparkSession\n",
    "APP_NAME = \"CreditCardFraudDetection\"\n",
    "spark = SparkSession.builder.appName(APP_NAME).getOrCreate()\n",
    "spark"
   ]
  },
  {
   "cell_type": "code",
   "execution_count": 7,
   "metadata": {},
   "outputs": [
    {
     "name": "stdout",
     "output_type": "stream",
     "text": [
      "Data Loaded Successfully\n",
      "root\n",
      " |-- Time: double (nullable = true)\n",
      " |-- V1: double (nullable = true)\n",
      " |-- V2: double (nullable = true)\n",
      " |-- V3: double (nullable = true)\n",
      " |-- V4: double (nullable = true)\n",
      " |-- V5: double (nullable = true)\n",
      " |-- V6: double (nullable = true)\n",
      " |-- V7: double (nullable = true)\n",
      " |-- V8: double (nullable = true)\n",
      " |-- V9: double (nullable = true)\n",
      " |-- V10: double (nullable = true)\n",
      " |-- V11: double (nullable = true)\n",
      " |-- V12: double (nullable = true)\n",
      " |-- V13: double (nullable = true)\n",
      " |-- V14: double (nullable = true)\n",
      " |-- V15: double (nullable = true)\n",
      " |-- V16: double (nullable = true)\n",
      " |-- V17: double (nullable = true)\n",
      " |-- V18: double (nullable = true)\n",
      " |-- V19: double (nullable = true)\n",
      " |-- V20: double (nullable = true)\n",
      " |-- V21: double (nullable = true)\n",
      " |-- V22: double (nullable = true)\n",
      " |-- V23: double (nullable = true)\n",
      " |-- V24: double (nullable = true)\n",
      " |-- V25: double (nullable = true)\n",
      " |-- V26: double (nullable = true)\n",
      " |-- V27: double (nullable = true)\n",
      " |-- V28: double (nullable = true)\n",
      " |-- Amount: double (nullable = true)\n",
      " |-- Class: integer (nullable = true)\n",
      "\n"
     ]
    }
   ],
   "source": [
    "data_path = \"C:/Users/Sandeep Reddy/Downloads/archive/\"  \n",
    "data_files = \"creditcard_*.csv\"\n",
    "df = spark.read.csv(data_path + data_files, header=True, inferSchema=True)\n",
    "print(\"Data Loaded Successfully\")\n",
    "df.printSchema()"
   ]
  },
  {
   "cell_type": "code",
   "execution_count": 8,
   "metadata": {},
   "outputs": [
    {
     "name": "stdout",
     "output_type": "stream",
     "text": [
      "Rows: 284807, Columns: 31\n",
      "+-------+-----------------+--------------------+--------------------+--------------------+--------------------+--------------------+--------------------+--------------------+--------------------+--------------------+--------------------+--------------------+--------------------+--------------------+--------------------+--------------------+--------------------+--------------------+--------------------+--------------------+--------------------+--------------------+--------------------+--------------------+--------------------+--------------------+--------------------+--------------------+--------------------+------------------+--------------------+\n",
      "|summary|             Time|                  V1|                  V2|                  V3|                  V4|                  V5|                  V6|                  V7|                  V8|                  V9|                 V10|                 V11|                 V12|                 V13|                 V14|                 V15|                 V16|                 V17|                 V18|                 V19|                 V20|                 V21|                 V22|                 V23|                 V24|                 V25|                 V26|                 V27|                 V28|            Amount|               Class|\n",
      "+-------+-----------------+--------------------+--------------------+--------------------+--------------------+--------------------+--------------------+--------------------+--------------------+--------------------+--------------------+--------------------+--------------------+--------------------+--------------------+--------------------+--------------------+--------------------+--------------------+--------------------+--------------------+--------------------+--------------------+--------------------+--------------------+--------------------+--------------------+--------------------+--------------------+------------------+--------------------+\n",
      "|  count|           284807|              284807|              284807|              284807|              284807|              284807|              284807|              284807|              284807|              284807|              284807|              284807|              284807|              284807|              284807|              284807|              284807|              284807|              284807|              284807|              284807|              284807|              284807|              284807|              284807|              284807|              284807|              284807|              284807|            284807|              284807|\n",
      "|   mean|94813.85957508067|8.222932923226221...|7.983430022549729...|-1.34121624378835...|1.663746816699363...|8.749839304714502...|1.633409782613674...|-5.92370507673189...|1.219468935944471...|-2.53778583338298...|2.095650380919303...|1.922409949429974...|-8.54227012412820...|1.230845323726604...|8.933458195233146...|5.162085852580654...|1.455578878861379...|-2.69041591759925...|1.084948140064508...|1.036249216926954...|5.692185606077957...|1.433774135612290...|-5.14132893452202...|2.786217077869855...|4.499660746459591...|5.987572516912296...|1.621933601956259...|-3.82356401642491...|-1.25339851354030...| 88.34961925093077|0.001727485630620034|\n",
      "| stddev|47488.14595456596|  1.9586958038574867|  1.6513085794769964|  1.5162550051777708|  1.4158685749409208|    1.38024673403144|  1.3322710897575762|   1.237093598182666|  1.1943529026692041|  1.0986320892243215|  1.0888497654025178|  1.0207130277115575|  0.9992013895301428|  0.9952742301251546|  0.9585956112570647|  0.9153160116104383|  0.8762528873883694|   0.849337063674389|  0.8381762095288423|  0.8140405007685776|  0.7709250248871167|  0.7345240143713132|   0.725701560440911|    0.62446029559499|  0.6056470678271606|  0.5212780705409427|  0.4822270132610572| 0.40363249496503073|  0.3300832641602509|250.12010924018867|0.041527189635465006|\n",
      "|    min|              0.0|    -56.407509631329|   -72.7157275629303|   -48.3255893623954|   -5.68317119816995|   -113.743306711146|   -26.1605059358433|   -43.5572415712451|   -73.2167184552674|   -13.4340663182301|   -24.5882624372475|   -4.79747346479757|   -18.6837146333443|   -5.79188120632084|   -19.2143254902614|   -4.49894467676621|   -14.1298545174931|   -25.1627993693248|   -9.49874592104677|   -7.21352743017759|    -54.497720494566|   -34.8303821448146|    -10.933143697655|   -44.8077352037913|   -2.83662691870341|   -10.2953970749851|   -2.60455055280817|   -22.5656793207827|   -15.4300839055349|               0.0|                   0|\n",
      "|    max|         172792.0|    2.45492999121121|    22.0577289904909|    9.38255843282114|    16.8753440335975|    34.8016658766686|    73.3016255459646|    120.589493945238|    20.0072083651213|    15.5949946071278|    23.7451361206545|    12.0189131816199|     7.8483920756446|    7.12688295859376|    10.5267660517847|    8.87774159774277|    17.3151115176278|    9.25352625047285|    5.04106918541184|    5.59197142733558|    39.4209042482199|    27.2028391573154|    10.5030900899454|    22.5284116897749|    4.58454913689817|    7.51958867870916|     3.5173456116238|    31.6121981061363|    33.8478078188831|          25691.16|                   1|\n",
      "+-------+-----------------+--------------------+--------------------+--------------------+--------------------+--------------------+--------------------+--------------------+--------------------+--------------------+--------------------+--------------------+--------------------+--------------------+--------------------+--------------------+--------------------+--------------------+--------------------+--------------------+--------------------+--------------------+--------------------+--------------------+--------------------+--------------------+--------------------+--------------------+--------------------+------------------+--------------------+\n",
      "\n"
     ]
    }
   ],
   "source": [
    "print(f\"Rows: {df.count()}, Columns: {len(df.columns)}\")\n",
    "df.describe().show()"
   ]
  },
  {
   "cell_type": "markdown",
   "metadata": {},
   "source": []
  },
  {
   "cell_type": "code",
   "execution_count": 9,
   "metadata": {},
   "outputs": [],
   "source": [
    "df = df.fillna(0).withColumnRenamed(\"Class\", \"Fraudulent\")\n"
   ]
  },
  {
   "cell_type": "code",
   "execution_count": 10,
   "metadata": {},
   "outputs": [
    {
     "data": {
      "text/plain": [
       "DataFrame[Time: double, V1: double, V2: double, V3: double, V4: double, V5: double, V6: double, V7: double, V8: double, V9: double, V10: double, V11: double, V12: double, V13: double, V14: double, V15: double, V16: double, V17: double, V18: double, V19: double, V20: double, V21: double, V22: double, V23: double, V24: double, V25: double, V26: double, V27: double, V28: double, Amount: double, Fraudulent: int]"
      ]
     },
     "execution_count": 10,
     "metadata": {},
     "output_type": "execute_result"
    }
   ],
   "source": [
    "df"
   ]
  },
  {
   "cell_type": "code",
   "execution_count": 15,
   "metadata": {},
   "outputs": [],
   "source": [
    "stats = df.select(mean(\"Amount\").alias(\"mean\"), stddev(\"Amount\").alias(\"std\")).collect()\n",
    "mean_value, std_value = stats[0][\"mean\"], stats[0][\"std\"]"
   ]
  },
  {
   "cell_type": "code",
   "execution_count": 16,
   "metadata": {},
   "outputs": [
    {
     "name": "stdout",
     "output_type": "stream",
     "text": [
      "Data Transformation Completed\n"
     ]
    }
   ],
   "source": [
    "df = df.withColumn(\"NormalizedAmount\", (col(\"Amount\") - mean_value) / std_value)\n",
    "df = df.withColumn(\"AmountLog\", log(col(\"Amount\") + 1))\n",
    "print(\"Data Transformation Completed\")"
   ]
  },
  {
   "cell_type": "code",
   "execution_count": 17,
   "metadata": {},
   "outputs": [
    {
     "name": "stdout",
     "output_type": "stream",
     "text": [
      "Data saved to D:/credit_card/cleaned_data.parquet\n"
     ]
    }
   ],
   "source": [
    "output_path = \"D:/credit_card/cleaned_data.parquet\"\n",
    "df.write.parquet(output_path, mode=\"overwrite\")\n",
    "print(f\"Data saved to {output_path}\")"
   ]
  },
  {
   "cell_type": "code",
   "execution_count": 18,
   "metadata": {},
   "outputs": [],
   "source": [
    "df.createOrReplaceTempView(\"credit_card\")\n",
    "avg_norm_fraud = spark.sql(\"SELECT AVG(NormalizedAmount) AS AvgNorm FROM credit_card WHERE Fraudulent = 1\")\n",
    "max_norm_non_fraud = spark.sql(\"SELECT MAX(NormalizedAmount) AS MaxNorm FROM credit_card WHERE Fraudulent = 0\")\n",
    "avg_log_amounts = spark.sql(\"SELECT AVG(AmountLog) AS AvgLog, Fraudulent FROM credit_card GROUP BY Fraudulent\")"
   ]
  },
  {
   "cell_type": "code",
   "execution_count": 19,
   "metadata": {},
   "outputs": [
    {
     "name": "stdout",
     "output_type": "stream",
     "text": [
      "+-------------------+\n",
      "|            AvgNorm|\n",
      "+-------------------+\n",
      "|0.13538176514533437|\n",
      "+-------------------+\n",
      "\n",
      "+-----------------+\n",
      "|          MaxNorm|\n",
      "+-----------------+\n",
      "|102.3620630045498|\n",
      "+-----------------+\n",
      "\n",
      "+------------------+----------+\n",
      "|            AvgLog|Fraudulent|\n",
      "+------------------+----------+\n",
      "|2.8205955123701885|         1|\n",
      "| 3.152761873849474|         0|\n",
      "+------------------+----------+\n",
      "\n"
     ]
    }
   ],
   "source": [
    "avg_norm_fraud.show()\n",
    "max_norm_non_fraud.show()\n",
    "avg_log_amounts.show()"
   ]
  }
 ],
 "metadata": {
  "kernelspec": {
   "display_name": "Python 3",
   "language": "python",
   "name": "python3"
  },
  "language_info": {
   "codemirror_mode": {
    "name": "ipython",
    "version": 3
   },
   "file_extension": ".py",
   "mimetype": "text/x-python",
   "name": "python",
   "nbconvert_exporter": "python",
   "pygments_lexer": "ipython3",
   "version": "3.8.2"
  }
 },
 "nbformat": 4,
 "nbformat_minor": 2
}
